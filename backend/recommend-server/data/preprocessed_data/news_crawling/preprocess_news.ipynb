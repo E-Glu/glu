{
 "cells": [
  {
   "cell_type": "code",
   "id": "initial_id",
   "metadata": {
    "collapsed": true,
    "ExecuteTime": {
     "end_time": "2024-09-10T00:10:42.547055Z",
     "start_time": "2024-09-10T00:10:42.490504Z"
    }
   },
   "source": [
    "import openai\n",
    "import pandas as pd\n",
    "\n",
    "OPEN_API_KEY = ''\n",
    "\n",
    "openai.api_key = OPEN_API_KEY\n",
    "news1 = pd.read_csv(\"../data/raw/news/news_donga_crawled.csv\", sep=',')\n",
    "news2 = pd.read_csv(\"../data/raw/news/news_chosun_crawled.csv\", sep=',')\n",
    "news3 = pd.read_csv(\"../data/raw/news/nie_chosun_crawled.csv\", sep=',')\n",
    "\n",
    "def get_completion(paragraph):\n",
    "    try:\n",
    "        response = openai.chat.completions.create(\n",
    "            messages=[\n",
    "                {\"role\": \"system\", \"content\": \"당신은 초등학교 국어 선생님입니다. 해당 기사를 읽고 기사 문단 내용만 남도록 작성하세요.\"},\n",
    "                {\"role\": \"user\", \"content\": f\"{paragraph} /n 위 내용을 최대한 내용을 삭제하지 않으며 기사의 핵심 내용이 포함된 문단만 남도록 전처리하세요. 문단에 포함되지 않은 짧은 문장은 제거하세요. 요구한 결과물만 출력해줘\"}\n",
    "            ],\n",
    "            model=\"gpt-4o-mini\"\n",
    "        )\n",
    "        # print(response)\n",
    "        return response.choices[0].message.content\n",
    "    except Exception as e:\n",
    "        print(f\"An error occurred: {e}\")\n",
    "        return None"
   ],
   "outputs": [],
   "execution_count": 2
  },
  {
   "metadata": {
    "ExecuteTime": {
     "end_time": "2024-09-10T00:37:28.901708Z",
     "start_time": "2024-09-10T00:10:42.555415Z"
    }
   },
   "cell_type": "code",
   "source": [
    "news1['preprocessed_content'] = None\n",
    "\n",
    "\n",
    "for i, row in news1.iterrows():\n",
    "    content = row['content']\n",
    "    if len(str(content)) <= 100:\n",
    "        print(\"길이가 너무 짧음\")\n",
    "        continue\n",
    "    preprocessed = get_completion(content)\n",
    "    if preprocessed:\n",
    "        news1.at[i, 'preprocessed_content'] = preprocessed\n",
    "    else:\n",
    "        news1.at[i, 'preprocessed_content'] = \"실패\"\n",
    "    if (i+1)%10==0:\n",
    "        print(f\"{i + 1}개 처리 완료\")\n",
    "\n",
    "# news1.to_csv(\"../data/processed/news_donga_preprocessed.csv\", index=False, encoding='utf-8-sig')"
   ],
   "id": "662ad239aff1b816",
   "outputs": [
    {
     "name": "stdout",
     "output_type": "stream",
     "text": [
      "길이가 너무 짧음\n",
      "20개 처리 완료\n",
      "30개 처리 완료\n",
      "길이가 너무 짧음\n",
      "40개 처리 완료\n",
      "50개 처리 완료\n",
      "60개 처리 완료\n",
      "길이가 너무 짧음\n",
      "70개 처리 완료\n",
      "80개 처리 완료\n",
      "90개 처리 완료\n",
      "길이가 너무 짧음\n",
      "100개 처리 완료\n",
      "110개 처리 완료\n",
      "길이가 너무 짧음\n",
      "길이가 너무 짧음\n",
      "120개 처리 완료\n",
      "130개 처리 완료\n",
      "140개 처리 완료\n",
      "150개 처리 완료\n",
      "160개 처리 완료\n",
      "170개 처리 완료\n",
      "180개 처리 완료\n",
      "190개 처리 완료\n",
      "200개 처리 완료\n",
      "210개 처리 완료\n",
      "길이가 너무 짧음\n",
      "220개 처리 완료\n",
      "230개 처리 완료\n",
      "길이가 너무 짧음\n",
      "240개 처리 완료\n",
      "250개 처리 완료\n",
      "260개 처리 완료\n",
      "270개 처리 완료\n",
      "길이가 너무 짧음\n",
      "280개 처리 완료\n",
      "290개 처리 완료\n",
      "300개 처리 완료\n",
      "310개 처리 완료\n",
      "320개 처리 완료\n",
      "330개 처리 완료\n",
      "340개 처리 완료\n",
      "길이가 너무 짧음\n",
      "350개 처리 완료\n",
      "360개 처리 완료\n",
      "370개 처리 완료\n",
      "380개 처리 완료\n",
      "390개 처리 완료\n",
      "400개 처리 완료\n",
      "길이가 너무 짧음\n",
      "410개 처리 완료\n",
      "길이가 너무 짧음\n",
      "길이가 너무 짧음\n",
      "길이가 너무 짧음\n",
      "430개 처리 완료\n",
      "길이가 너무 짧음\n",
      "440개 처리 완료\n",
      "450개 처리 완료\n",
      "길이가 너무 짧음\n",
      "길이가 너무 짧음\n",
      "460개 처리 완료\n",
      "470개 처리 완료\n",
      "480개 처리 완료\n",
      "490개 처리 완료\n",
      "500개 처리 완료\n"
     ]
    }
   ],
   "execution_count": 3
  },
  {
   "metadata": {
    "ExecuteTime": {
     "end_time": "2024-09-10T00:49:57.624534Z",
     "start_time": "2024-09-10T00:49:57.606590Z"
    }
   },
   "cell_type": "code",
   "source": [
    "news1 = news1[news1['content'].apply(lambda x: len(str(x)) > 100)].reset_index(drop=True)\n",
    "# news1.to_csv(\"../data/processed/news_donga_preprocessed.csv\", index=False, encoding='utf-8-sig')\n",
    "news1 = news1.drop(columns = ['content']).reset_index(drop=True)\n",
    "news1.to_csv(\"../data/processed/news_donga_preprocessed2.csv\", index=False, encoding='utf-8-sig')"
   ],
   "id": "ad30746f07ea7400",
   "outputs": [],
   "execution_count": 7
  },
  {
   "metadata": {
    "ExecuteTime": {
     "end_time": "2024-09-10T04:16:29.319976Z",
     "start_time": "2024-09-10T04:00:20.417294Z"
    }
   },
   "cell_type": "code",
   "source": [
    "news2 = pd.read_csv(\"../data/raw/news/news_chosun_crawled.csv\", sep=',')\n",
    "def get_completion(paragraph):\n",
    "    try:\n",
    "        response = openai.chat.completions.create(\n",
    "            messages=[\n",
    "                {\"role\": \"system\", \"content\": \"당신은 초등학교 국어 선생님입니다. 해당 기사를 읽고 기사 문단 내용만 남도록 작성하세요.\"},\n",
    "                {\"role\": \"user\", \"content\": f\"{paragraph} /n 위 내용을 최대한 내용을 삭제하지 않으며 기사의 핵심 내용이 포함된 문단만 남도록 전처리하세요. 문단에 포함되지 않은 짧은 문장은 제거하세요. 용어 정리가 있는 경우 제거하세요. 요구한 결과물만 출력해줘\"}\n",
    "            ],\n",
    "            model=\"gpt-4o-mini\"\n",
    "        )\n",
    "        # print(response)\n",
    "        return response.choices[0].message.content\n",
    "    except Exception as e:\n",
    "        print(f\"An error occurred: {e}\")\n",
    "        return None\n",
    "\n",
    "news2['preprocessed_content'] = None\n",
    "\n",
    "\n",
    "for i, row in news2.iterrows():\n",
    "    content = row['content']\n",
    "    if len(str(content)) <= 100:\n",
    "        print(\"길이가 너무 짧음\")\n",
    "        continue\n",
    "    preprocessed = get_completion(content)\n",
    "    if preprocessed:\n",
    "        news2.at[i, 'preprocessed_content'] = preprocessed\n",
    "    else:\n",
    "        news2.at[i, 'preprocessed_content'] = \"실패\"\n",
    "    if (i+1)%10==0:\n",
    "        print(f\"{i + 1}개 처리 완료\")\n",
    "\n",
    "# news2.to_csv(\"../data/processed/news_chosun_preprocessed.csv\", index=False, encoding='utf-8-sig')"
   ],
   "id": "947919852a06a1c5",
   "outputs": [
    {
     "name": "stdout",
     "output_type": "stream",
     "text": [
      "10개 처리 완료\n",
      "20개 처리 완료\n",
      "30개 처리 완료\n",
      "40개 처리 완료\n",
      "50개 처리 완료\n",
      "60개 처리 완료\n",
      "70개 처리 완료\n",
      "80개 처리 완료\n",
      "90개 처리 완료\n",
      "100개 처리 완료\n",
      "110개 처리 완료\n",
      "120개 처리 완료\n",
      "130개 처리 완료\n",
      "140개 처리 완료\n",
      "150개 처리 완료\n",
      "160개 처리 완료\n",
      "170개 처리 완료\n",
      "180개 처리 완료\n",
      "190개 처리 완료\n",
      "200개 처리 완료\n",
      "210개 처리 완료\n",
      "220개 처리 완료\n",
      "230개 처리 완료\n",
      "240개 처리 완료\n",
      "250개 처리 완료\n",
      "260개 처리 완료\n",
      "270개 처리 완료\n",
      "280개 처리 완료\n",
      "290개 처리 완료\n",
      "300개 처리 완료\n"
     ]
    }
   ],
   "execution_count": 19
  },
  {
   "metadata": {
    "ExecuteTime": {
     "end_time": "2024-09-10T04:17:25.175982Z",
     "start_time": "2024-09-10T04:17:25.167444Z"
    }
   },
   "cell_type": "code",
   "source": [
    "# news2.to_csv(\"../data/processed/news_chosun_preprocessed.csv\", index=False, encoding='utf-8-sig')\n",
    "news2 = news2.drop(columns = ['content']).reset_index(drop=True)\n",
    "news2.to_csv(\"../data/processed/news/detail/news_chosun_preprocessed.csv\", index=False, encoding='utf-8-sig')"
   ],
   "id": "1b0515979fc35336",
   "outputs": [],
   "execution_count": 20
  },
  {
   "metadata": {
    "ExecuteTime": {
     "end_time": "2024-09-10T05:20:52.263718Z",
     "start_time": "2024-09-10T05:12:28.184722Z"
    }
   },
   "cell_type": "code",
   "source": [
    "news3 = pd.read_csv(\"../data/raw/news/nie_chosun_crawled.csv\", sep=',')\n",
    "def get_completion(paragraph):\n",
    "    try:\n",
    "        response = openai.chat.completions.create(\n",
    "            messages=[\n",
    "                {\"role\": \"system\", \"content\": \"당신은 초등학교 국어 선생님입니다. 해당 기사를 읽고 기사 문단 내용만 남도록 작성하세요.\"},\n",
    "                {\"role\": \"user\", \"content\": f\"{paragraph} /n 위 내용을 최대한 내용을 삭제하지 않으며 기사의 핵심 내용이 포함된 문단만 남도록 전처리하세요. 문단에 포함되지 않은 짧은 문장은 제거하세요. 용어 정리가 있는 경우 제거하세요. 요구한 결과물만 출력해줘\"}\n",
    "            ],\n",
    "            model=\"gpt-4o-mini\"\n",
    "        )\n",
    "        # print(response)\n",
    "        return response.choices[0].message.content\n",
    "    except Exception as e:\n",
    "        print(f\"An error occurred: {e}\")\n",
    "        return None\n",
    "\n",
    "news3['preprocessed_content'] = None\n",
    "\n",
    "\n",
    "for i, row in news3.iterrows():\n",
    "    content = row['content']\n",
    "    if len(str(content)) <= 100:\n",
    "        print(\"길이가 너무 짧음\")\n",
    "        continue\n",
    "    preprocessed = get_completion(content)\n",
    "    if preprocessed:\n",
    "        news3.at[i, 'preprocessed_content'] = preprocessed\n",
    "    else:\n",
    "        news3.at[i, 'preprocessed_content'] = \"실패\"\n",
    "    if (i+1)%10==0:\n",
    "        print(f\"{i + 1}개 처리 완료\")"
   ],
   "id": "265a581cf6292a1d",
   "outputs": [
    {
     "name": "stdout",
     "output_type": "stream",
     "text": [
      "10개 처리 완료\n",
      "길이가 너무 짧음\n",
      "20개 처리 완료\n",
      "30개 처리 완료\n",
      "길이가 너무 짧음\n",
      "40개 처리 완료\n",
      "길이가 너무 짧음\n",
      "60개 처리 완료\n",
      "길이가 너무 짧음\n",
      "70개 처리 완료\n",
      "80개 처리 완료\n",
      "길이가 너무 짧음\n",
      "90개 처리 완료\n",
      "100개 처리 완료\n",
      "길이가 너무 짧음\n",
      "110개 처리 완료\n",
      "120개 처리 완료\n",
      "길이가 너무 짧음\n",
      "130개 처리 완료\n",
      "140개 처리 완료\n",
      "길이가 너무 짧음\n",
      "150개 처리 완료\n",
      "길이가 너무 짧음\n",
      "170개 처리 완료\n",
      "길이가 너무 짧음\n",
      "길이가 너무 짧음\n",
      "180개 처리 완료\n",
      "길이가 너무 짧음\n",
      "길이가 너무 짧음\n",
      "길이가 너무 짧음\n",
      "190개 처리 완료\n",
      "길이가 너무 짧음\n",
      "길이가 너무 짧음\n",
      "길이가 너무 짧음\n"
     ]
    }
   ],
   "execution_count": 28
  },
  {
   "metadata": {
    "ExecuteTime": {
     "end_time": "2024-09-10T05:22:32.640845Z",
     "start_time": "2024-09-10T05:22:32.634711Z"
    }
   },
   "cell_type": "code",
   "source": [
    "# news3 = news3[news3['content'].apply(lambda x: len(str(x)) > 100)].reset_index(drop=True)\n",
    "# news3.to_csv(\"../data/processed/nie_chosun_preprocessed.csv\", index=False, encoding='utf-8-sig')\n",
    "# news3 = news3.drop(columns = ['content']).reset_index(drop=True)\n",
    "# news3 = news3.drop(columns = ['question']).reset_index(drop=True)\n",
    "news3.to_csv(\"../data/processed/news/detail/nie_chosun_preprocessed.csv\", index=False, encoding='utf-8-sig')"
   ],
   "id": "17d4780c7bd714eb",
   "outputs": [],
   "execution_count": 31
  },
  {
   "metadata": {
    "ExecuteTime": {
     "end_time": "2024-09-10T00:37:28.979509Z",
     "start_time": "2024-09-10T00:37:28.968641Z"
    }
   },
   "cell_type": "code",
   "source": [
    "# import openai\n",
    "# \n",
    "# OPEN_API_KEY = 'sk-2vQn6U2b60JswNuK6ZDEEuwm2yriz2GBYHY_8wfuozT3BlbkFJjJzxszY3S0aDoWOSnH9dusJEDf6k5QduFQMkXJw4EA'\n",
    "# \n",
    "# openai.api_key = OPEN_API_KEY\n",
    "# \n",
    "# def get_completion(paragraph, level):\n",
    "#     try:\n",
    "#         response = openai.chat.completions.create(\n",
    "#             messages=[\n",
    "#                 {\"role\": \"system\", \"content\": \"당신은 초등학교 국어 선생님입니다. 해당 지문을 확인한 후 4지선다 문제를 출제하세요.\"},\n",
    "#                 {\"role\": \"user\", \"content\": f\"{preprocessed} /n 위 내용을 바탕으로 초등학교 {level}학년 수준의 4지선다 형태의 객관식 문제 1개를 출제하세요. {example} 의 구조로 문제를 만드세요. 답과 해설도 같이 제공해줘. 요구한 결과물만 출력해줘\"}\n",
    "#             ],\n",
    "#             model=\"gpt-4o\"\n",
    "#         )\n",
    "#         # print(response)\n",
    "#         return response.choices[0].message.content\n",
    "#     except Exception as e:\n",
    "#         print(f\"An error occurred: {e}\")\n",
    "#         return None\n",
    "# \n",
    "# example = \"\"\"\n",
    "# ###문제\n",
    "# 문제의 주제로 알맞는 것은?\n",
    "# \n",
    "# 1) 보기A \n",
    "# 2) 보기b\n",
    "# 3) 보기c \n",
    "# 4) 보기d\n",
    "# \n",
    "# \n",
    "# ###답\n",
    "# \n",
    "# 3) 보기c\n",
    "# \n",
    "# ###해설\n",
    "# \n",
    "# 답에 대한 이유\n",
    "# \"\"\"\n",
    "# \n",
    "# response = get_completion(paragraph,level=2)\n",
    "# if response:\n",
    "#     print(response)\n",
    "# else:\n",
    "#     print(\"Failed to get a response from the API.\")"
   ],
   "id": "2079d8f1f72f2ced",
   "outputs": [],
   "execution_count": 5
  }
 ],
 "metadata": {
  "kernelspec": {
   "display_name": "Python 3",
   "language": "python",
   "name": "python3"
  },
  "language_info": {
   "codemirror_mode": {
    "name": "ipython",
    "version": 2
   },
   "file_extension": ".py",
   "mimetype": "text/x-python",
   "name": "python",
   "nbconvert_exporter": "python",
   "pygments_lexer": "ipython2",
   "version": "2.7.6"
  }
 },
 "nbformat": 4,
 "nbformat_minor": 5
}
