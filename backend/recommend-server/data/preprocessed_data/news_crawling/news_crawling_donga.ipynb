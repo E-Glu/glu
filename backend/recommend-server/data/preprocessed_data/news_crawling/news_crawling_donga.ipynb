{
 "cells": [
  {
   "cell_type": "code",
   "id": "initial_id",
   "metadata": {
    "collapsed": true,
    "ExecuteTime": {
     "end_time": "2024-09-09T08:46:09.372733Z",
     "start_time": "2024-09-09T08:44:17.457163Z"
    }
   },
   "source": [
    "from selenium import webdriver\n",
    "from selenium.webdriver.common.by import By\n",
    "import time\n",
    "import pandas as pd\n",
    "\n",
    " \n",
    "path = \"C:\\\\workspace\\\\특화프로젝트\\\\chromedriver-win64\\\\chromedriver.exe\" # 웹드라이버 실행\n",
    " \n",
    "driver = webdriver.Chrome() # 드라이버 경로 설정\n",
    "url_list = [] # url을 저장하기 위한 변수\n",
    "content_list = []\n",
    "df = pd.DataFrame(columns=['URL', 'title', 'content']) # content를 누적하기 위한 변수\n",
    "\n",
    "gbn_values = [\"01\", \"02\", \"03\", \"05\", \"06\"]\n",
    "\n",
    "def collect_urls_for_gbn(gbn):\n",
    "    for i in range(1, 11): \n",
    "        url = f'https://kids.donga.com/?page_no={i}&ptype=article&psub=news&gbn={gbn}'\n",
    "        driver.get(url)\n",
    "        time.sleep(0.5)  # Sleep to prevent errors\n",
    "\n",
    "        for j in range(1, 11):\n",
    "            if gbn==\"01\":\n",
    "                try:\n",
    "                    title_element = driver.find_element(By.XPATH, f'/html/body/div[2]/div[2]/div[1]/div[4]/ul/li[{j}]/dl/dt/a')\n",
    "                    title_url = title_element.get_attribute('href')\n",
    "                    url_list.append(title_url)\n",
    "                except Exception as e:\n",
    "                    print(f\"Error finding element: {e}\")\n",
    "            else:\n",
    "                try:\n",
    "                    title_element = driver.find_element(By.XPATH, f'/html/body/div[2]/div[2]/div[1]/div[3]/ul/li[{j}]/dl/dt/a')\n",
    "                    title_url = title_element.get_attribute('href')\n",
    "                    url_list.append(title_url)\n",
    "                except Exception as e:\n",
    "                    print(f\"Error finding element: {e}\")            \n",
    "        \n",
    "for gbn in gbn_values:\n",
    "    collect_urls_for_gbn(gbn)\n",
    "        \n",
    "print(\"url 수집 끝\")\n",
    "driver.close()\n",
    "\n",
    "print(\"수집한 url 개수 : \"+str(len(url_list)))"
   ],
   "outputs": [
    {
     "name": "stdout",
     "output_type": "stream",
     "text": [
      "url 수집 끝\n",
      "수집한 url 개수 : 500\n"
     ]
    }
   ],
   "execution_count": 24
  },
  {
   "metadata": {
    "ExecuteTime": {
     "end_time": "2024-09-09T09:04:58.435051Z",
     "start_time": "2024-09-09T08:46:09.381742Z"
    }
   },
   "cell_type": "code",
   "source": [
    "from bs4 import BeautifulSoup\n",
    "\n",
    "driver = webdriver.Chrome()\n",
    "\n",
    "for index, url in enumerate(url_list):\n",
    "    title_text = \"\"\n",
    "    content_text = \"\"\n",
    "    driver.get(url)\n",
    "    time.sleep(1)\n",
    "\n",
    "    soup = BeautifulSoup(driver.page_source, 'html.parser')\n",
    "    \n",
    "    title = soup.find('li', class_='title')\n",
    "    if title:\n",
    "        title_text = title.get_text(strip=True)\n",
    "    else:\n",
    "        title_text = \"No Title Found\"\n",
    "    \n",
    "    content_div = soup.find('div', class_='at_content')\n",
    "    if content_div:\n",
    "        elements = content_div.find_all(['p'], style=lambda value: \n",
    "            value and ('line-height: 1.8' in value)\n",
    "        )\n",
    "    \n",
    "        content_text = \"\"\n",
    "    \n",
    "        for element in elements:\n",
    "            content_text += element.get_text().strip() + \"\\n\"\n",
    "\n",
    "    content_list.append({\n",
    "        'URL': url,\n",
    "        'title': title_text,\n",
    "        'content': content_text\n",
    "    })\n",
    "    \n",
    "    if (index + 1) % 10 == 0:\n",
    "        print(f\"Processed {index + 1} URLs\")\n",
    "\n",
    "# Convert to a DataFrame for easier handling\n",
    "df = pd.DataFrame(content_list)\n",
    "print(df)\n",
    "\n",
    "driver.quit()"
   ],
   "id": "3aef8bcb29ec40d8",
   "outputs": [
    {
     "name": "stdout",
     "output_type": "stream",
     "text": [
      "Processed 10 URLs\n",
      "Processed 20 URLs\n",
      "Processed 30 URLs\n",
      "Processed 40 URLs\n",
      "Processed 50 URLs\n",
      "Processed 60 URLs\n",
      "Processed 70 URLs\n",
      "Processed 80 URLs\n",
      "Processed 90 URLs\n",
      "Processed 100 URLs\n",
      "Processed 110 URLs\n",
      "Processed 120 URLs\n",
      "Processed 130 URLs\n",
      "Processed 140 URLs\n",
      "Processed 150 URLs\n",
      "Processed 160 URLs\n",
      "Processed 170 URLs\n",
      "Processed 180 URLs\n",
      "Processed 190 URLs\n",
      "Processed 200 URLs\n",
      "Processed 210 URLs\n",
      "Processed 220 URLs\n",
      "Processed 230 URLs\n",
      "Processed 240 URLs\n",
      "Processed 250 URLs\n",
      "Processed 260 URLs\n",
      "Processed 270 URLs\n",
      "Processed 280 URLs\n",
      "Processed 290 URLs\n",
      "Processed 300 URLs\n",
      "Processed 310 URLs\n",
      "Processed 320 URLs\n",
      "Processed 330 URLs\n",
      "Processed 340 URLs\n",
      "Processed 350 URLs\n",
      "Processed 360 URLs\n",
      "Processed 370 URLs\n",
      "Processed 380 URLs\n",
      "Processed 390 URLs\n",
      "Processed 400 URLs\n",
      "Processed 410 URLs\n",
      "Processed 420 URLs\n",
      "Processed 430 URLs\n",
      "Processed 440 URLs\n",
      "Processed 450 URLs\n",
      "Processed 460 URLs\n",
      "Processed 470 URLs\n",
      "Processed 480 URLs\n",
      "Processed 490 URLs\n",
      "Processed 500 URLs\n",
      "                                                   URL  \\\n",
      "0    https://kids.donga.com/?ptype=article&no=20240...   \n",
      "1    https://kids.donga.com/?ptype=article&no=20240...   \n",
      "2    https://kids.donga.com/?ptype=article&no=20240...   \n",
      "3    https://kids.donga.com/?ptype=article&no=20240...   \n",
      "4    https://kids.donga.com/?ptype=article&no=20240...   \n",
      "..                                                 ...   \n",
      "495  https://kids.donga.com/?ptype=article&no=20180...   \n",
      "496  https://kids.donga.com/?ptype=article&no=20180...   \n",
      "497  https://kids.donga.com/?ptype=article&no=20180...   \n",
      "498  https://kids.donga.com/?ptype=article&no=20180...   \n",
      "499  https://kids.donga.com/?ptype=article&no=20180...   \n",
      "\n",
      "                                                 title  \\\n",
      "0           [뉴스 브리핑] 도심 속 호수에 떠오른 16m 높이 대형 ‘랍스터’ 정체는?   \n",
      "1    [뉴스 브리핑] 소방청, 추석 음식 만들 때 화재 주의… “불나면 젖은 수건 덮으세요!”   \n",
      "2       생활 속으로 들어온 ‘작은 태양 전지’… 모자로 쓰고, 휴대폰에 붙여서 에너지 쏙!   \n",
      "3                                   문학에 등장하는 말장난, 언어유희   \n",
      "4                        [월드 뉴스] 화려하게 폐막한 2024 파리 패럴림픽   \n",
      "..                                                 ...   \n",
      "495           [우리교장샘] 서울목원초 장원자 교장 “자연과 책을 가까이하는 어린이로”   \n",
      "496                    [명품 교육현장] 인성·건강·꿈 갖춘 서울목원초 어린이들   \n",
      "497              [우리교장샘] 상패초 송홍철 교장 “학교는 학생들의 행복한 배움터”   \n",
      "498                      [명품 교육현장] 경기 상패초의 꿈 키우는 혁신 교육   \n",
      "499             [우리교장샘] 연곡초 김명제 교장 “어린이는 자연에서 놀아야 합니다”   \n",
      "\n",
      "                                               content  \n",
      "0    서울 송파구 석촌호수에서 열린 롯데월드몰 개장 10주년 공공미술 프로젝트 ‘랍스터 ...  \n",
      "1    추석 때 자주 먹는 각종 전의 모습\\n반가운 가족들이 한자리에 모이는 명절, 추석이...  \n",
      "2    활활 타오르는 태양이 내뿜는 빛은 지구로 쏟아져요. 이런 태양 빛을 모아 전기를 만...  \n",
      "3    \\n“즐거운 한‘가위 바위 보’내세요!” 추석의 다른 말인 ‘한가위’ 뒤에 ‘바위’...  \n",
      "4    Spectators attend the closing ceremony of the ...  \n",
      "..                                                 ...  \n",
      "495  서울 양천구 서울목원초 장원자 교장 선생님(사진)은 서울목원초를 푸르게 장식한 ‘늘...  \n",
      "496  서울 양천구에 있는 서울목원초(교장 장원자 선생님)의 하루는 학생과 선생님의 교문맞...  \n",
      "497  경기 양주시 상패초 송홍철 교장 선생님의 하루 일과는 교문에서 학생들을 맞는 것으로...  \n",
      "498  경기 양주시 끝자락에 자리한 상패초(교장 송홍철 선생님). 전교생 80여 명의 작은...  \n",
      "499  ​경기 양주시 연곡초의 김명제 교장 선생님은 ‘배려’를 강조한다. 앞으로 어린이들이...  \n",
      "\n",
      "[500 rows x 3 columns]\n"
     ]
    }
   ],
   "execution_count": 25
  },
  {
   "metadata": {
    "ExecuteTime": {
     "end_time": "2024-09-09T09:04:58.468581Z",
     "start_time": "2024-09-09T09:04:58.451966Z"
    }
   },
   "cell_type": "code",
   "source": [
    "file_path = \"../data/raw/news/news_donga_crawled.csv\"\n",
    "df.to_csv(file_path, sep=',', encoding='utf-8-sig', index=False)\n",
    "\n",
    "print(\"Data saved\")"
   ],
   "id": "c32e7ba814421b62",
   "outputs": [
    {
     "name": "stdout",
     "output_type": "stream",
     "text": [
      "Data saved\n"
     ]
    }
   ],
   "execution_count": 26
  }
 ],
 "metadata": {
  "kernelspec": {
   "display_name": "Python 3",
   "language": "python",
   "name": "python3"
  },
  "language_info": {
   "codemirror_mode": {
    "name": "ipython",
    "version": 2
   },
   "file_extension": ".py",
   "mimetype": "text/x-python",
   "name": "python",
   "nbconvert_exporter": "python",
   "pygments_lexer": "ipython2",
   "version": "2.7.6"
  }
 },
 "nbformat": 4,
 "nbformat_minor": 5
}
